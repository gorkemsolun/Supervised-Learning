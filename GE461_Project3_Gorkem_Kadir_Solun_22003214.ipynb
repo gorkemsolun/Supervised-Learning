{
 "cells": [
  {
   "cell_type": "markdown",
   "metadata": {},
   "source": [
    "# GE 461 Introduction to Data Science 2024\n",
    "\n",
    "# Project 3 – Supervised Learning\n",
    "\n",
    "### Görkem Kadir Solun 22003214\n",
    "\n",
    "### Notes\n",
    "\n",
    "You may need to update the data path.\n",
    "\n",
    "You may need to update the figure sizes for pyplot.\n",
    "\n",
    "You may need to update the output path.\n",
    "\n",
    "### Imports\n"
   ]
  },
  {
   "cell_type": "code",
   "execution_count": 11,
   "metadata": {},
   "outputs": [],
   "source": [
    "import os\n",
    "import matplotlib.pyplot as plt\n",
    "import numpy as np\n",
    "\n",
    "np.random.seed(666)"
   ]
  },
  {
   "cell_type": "markdown",
   "metadata": {},
   "source": [
    "### Loading the Data\n"
   ]
  },
  {
   "cell_type": "code",
   "execution_count": 12,
   "metadata": {},
   "outputs": [
    {
     "name": "stdout",
     "output_type": "stream",
     "text": [
      "Train Data Shape:  (60, 2)\n",
      "Test Data Shape:  (41, 2)\n"
     ]
    }
   ],
   "source": [
    "# Load the data\n",
    "# NOTE: This data may need to be configured to the correct path\n",
    "directory = os.getcwd()\n",
    "train_data_path = os.path.join(directory, \"data\\\\train1.txt\")\n",
    "test_data_path = os.path.join(directory, \"data\\\\test1.txt\")\n",
    "output_path = os.path.join(directory, \"output_gorkem\\\\\")\n",
    "\n",
    "# Figure size configuration\n",
    "# NOTE: This is a global configuration for all figures, you may need to adjust this\n",
    "# NOTE: This change is permanent and will be iterated and applied every time you run this script\n",
    "fig_size = plt.rcParams[\"figure.figsize\"]\n",
    "fig_size[0] = fig_size[0] * 1.7\n",
    "fig_size[1] = fig_size[1] * 1.7\n",
    "plt.rcParams[\"figure.figsize\"] = fig_size\n",
    "\n",
    "train_data = np.loadtxt(train_data_path)\n",
    "test_data = np.loadtxt(test_data_path)\n",
    "\n",
    "print(\"Train Data Shape: \", train_data.shape)\n",
    "print(\"Test Data Shape: \", test_data.shape)"
   ]
  },
  {
   "cell_type": "markdown",
   "metadata": {},
   "source": [
    "# Linear Regression\n",
    "\n",
    "I have created a class to calculate a linear regression of 1-dimensional input and output.\n"
   ]
  },
  {
   "cell_type": "code",
   "execution_count": 13,
   "metadata": {},
   "outputs": [],
   "source": [
    "class LinearRegression:\n",
    "    def __init__(self):\n",
    "        pass"
   ]
  }
 ],
 "metadata": {
  "kernelspec": {
   "display_name": "Python 3 (ipykernel)",
   "language": "python",
   "name": "python3"
  },
  "language_info": {
   "codemirror_mode": {
    "name": "ipython",
    "version": 3
   },
   "file_extension": ".py",
   "mimetype": "text/x-python",
   "name": "python",
   "nbconvert_exporter": "python",
   "pygments_lexer": "ipython3",
   "version": "3.12.2"
  }
 },
 "nbformat": 4,
 "nbformat_minor": 4
}
